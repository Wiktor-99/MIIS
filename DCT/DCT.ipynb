{
 "cells": [
  {
   "cell_type": "markdown",
   "metadata": {},
   "source": [
    "Importowanie bibliotek"
   ]
  },
  {
   "cell_type": "code",
   "execution_count": 366,
   "metadata": {},
   "outputs": [],
   "source": [
    "import numpy as np\n",
    "import cv2\n",
    "from scipy import fftpack\n",
    "from pylab import *"
   ]
  },
  {
   "cell_type": "markdown",
   "metadata": {},
   "source": [
    "Wczytanie i wyświetlenie pliku"
   ]
  },
  {
   "cell_type": "code",
   "execution_count": 367,
   "metadata": {},
   "outputs": [
    {
     "data": {
      "text/plain": [
       "<matplotlib.image.AxesImage at 0x161ae5e8c10>"
      ]
     },
     "execution_count": 367,
     "metadata": {},
     "output_type": "execute_result"
    },
    {
     "data": {
      "image/png": "[encoded data removed]",
      "text/plain": [
       "<Figure size 432x288 with 1 Axes>"
      ]
     },
     "metadata": {
      "needs_background": "light"
     },
     "output_type": "display_data"
    }
   ],
   "source": [
    "file = open(\"input_img_1.txt\", 'r')\n",
    "size = file.readline().split(' ')\n",
    "size_x = np.uint8(size[0])\n",
    "size_y = np.uint8(size[1])\n",
    "\n",
    "img = np.zeros((size_x, size_y))\n",
    "for x in range(size_x):\n",
    "    line = file.readline().split(' ')\n",
    "    for y in range(size_y):\n",
    "        img[x][y] = int(line[y])\n",
    "\n",
    "file.close()\n",
    "\n",
    "# print(img)\n",
    "\n",
    "figure(1)\n",
    "img = np.array(img, dtype=np.uint8)\n",
    "imshow(img, cmap='gray', vmin='0', vmax='255')"
   ]
  },
  {
   "cell_type": "markdown",
   "metadata": {},
   "source": [
    "Wczytanie tabeli kwantyzacji"
   ]
  },
  {
   "cell_type": "code",
   "execution_count": 368,
   "metadata": {},
   "outputs": [
    {
     "name": "stdout",
     "output_type": "stream",
     "text": [
      "[[ 16  11  10  16  24  40  51  61]\n",
      " [ 12  12  14  19  26  58  60  55]\n",
      " [ 14  13  16  24  40  57  69  56]\n",
      " [ 14  17  22  29  51  87  80  62]\n",
      " [ 18  22  37  56  68 109 103  77]\n",
      " [ 24  35  55  64  81 104 113  92]\n",
      " [ 49  64  78  87 103 121 120 101]\n",
      " [ 72  92  95  98 112 100 103  99]]\n"
     ]
    }
   ],
   "source": [
    "file = open(\"quantization_table_N.txt\", 'r')\n",
    "q_table_N = zeros((8, 8))\n",
    "for i in range(8):\n",
    "    line = file.readline().split(' ')\n",
    "    for j in range(8):\n",
    "        q_table_N[i][j] = int(line[j])\n",
    "    \n",
    "file.close()\n",
    "q_table_N = np.array(q_table_N, dtype=np.uint8)\n",
    "print(q_table_N)"
   ]
  },
  {
   "cell_type": "markdown",
   "metadata": {},
   "source": [
    "Wprowadzenie czynnika jakości"
   ]
  },
  {
   "cell_type": "code",
   "execution_count": 369,
   "metadata": {},
   "outputs": [
    {
     "name": "stdout",
     "output_type": "stream",
     "text": [
      "[[13.  9.  8. 13. 19. 32. 41. 49.]\n",
      " [10. 10. 11. 15. 21. 46. 48. 44.]\n",
      " [11. 10. 13. 19. 32. 46. 55. 45.]\n",
      " [11. 14. 18. 23. 41. 70. 64. 50.]\n",
      " [14. 18. 30. 45. 54. 87. 82. 62.]\n",
      " [19. 28. 44. 51. 65. 83. 90. 74.]\n",
      " [39. 51. 62. 70. 82. 97. 96. 81.]\n",
      " [58. 74. 76. 78. 90. 80. 82. 79.]]\n"
     ]
    }
   ],
   "source": [
    "q_factor = 60\n",
    "if q_factor < 50:\n",
    "    S = np.floor(5000 / q_factor)\n",
    "else:\n",
    "    S = np.floor(200 - 2 * q_factor)\n",
    "\n",
    "q_table = zeros((8, 8))\n",
    "\n",
    "for i in range(8):\n",
    "    for j in range(8):\n",
    "        q_table[i][j] = np.floor((S * q_table_N[i][j] + 50) / 100)\n",
    "\n",
    "print(q_table)"
   ]
  },
  {
   "cell_type": "markdown",
   "metadata": {},
   "source": [
    "Wykonanie transformacji cosinusowej"
   ]
  },
  {
   "cell_type": "code",
   "execution_count": 370,
   "metadata": {},
   "outputs": [
    {
     "name": "stdout",
     "output_type": "stream",
     "text": [
      "[[ 1.7320e+03 -1.7334e+00  1.0594e+02 -1.4697e+00 -5.0000e+00 -9.8193e-01\n",
      "   7.5312e+00 -3.4497e-01]\n",
      " [ 2.0275e+02 -4.7827e-01 -5.8125e+01 -4.0552e-01  1.7141e+01 -2.7100e-01\n",
      "  -1.4852e+01 -9.5154e-02]\n",
      " [-5.5188e+01  2.2656e+00  2.4656e+01  1.9209e+00 -1.5773e+01  1.2832e+00\n",
      "   6.2500e+00  4.5068e-01]\n",
      " [ 4.6812e+01  1.3623e+00 -2.2875e+01  1.1553e+00 -1.1835e-01  7.7148e-01\n",
      "   4.8047e+00  2.7100e-01]\n",
      " [-1.2500e+01 -1.7334e+00  2.8711e+00 -1.4697e+00  5.0000e+00 -9.8193e-01\n",
      "   6.9297e+00 -3.4497e-01]\n",
      " [-4.0664e+00 -2.0391e+00  1.2016e+01 -1.7285e+00 -5.9473e-01 -1.1553e+00\n",
      "   1.6650e+00 -4.0552e-01]\n",
      " [ 3.9238e+00  9.3848e-01 -6.2500e+00  7.9541e-01  1.1211e+00  5.3174e-01\n",
      "  -7.1602e+00  1.8665e-01]\n",
      " [-1.1266e+01  2.4043e+00  1.8250e+01  2.0391e+00 -1.1445e+01  1.3623e+00\n",
      "  -7.0234e+00  4.7827e-01]]\n"
     ]
    }
   ],
   "source": [
    "img_DCT = fftpack.dctn(img, norm='ortho')\n",
    "img_DCT = np.array(img_DCT, dtype=np.float16)\n",
    "print(img_DCT)"
   ]
  },
  {
   "cell_type": "markdown",
   "metadata": {},
   "source": [
    "Kwantyzacja"
   ]
  },
  {
   "cell_type": "code",
   "execution_count": 371,
   "metadata": {},
   "outputs": [
    {
     "name": "stdout",
     "output_type": "stream",
     "text": [
      "[[133   0  13   0   0   0   0   0]\n",
      " [ 20   0  -5   0   0   0   0   0]\n",
      " [ -5   0   1   0   0   0   0   0]\n",
      " [  4   0  -1   0   0   0   0   0]\n",
      " [  0   0   0   0   0   0   0   0]\n",
      " [  0   0   0   0   0   0   0   0]\n",
      " [  0   0   0   0   0   0   0   0]\n",
      " [  0   0   0   0   0   0   0   0]]\n"
     ]
    }
   ],
   "source": [
    "for i in range(len(img_DCT)):\n",
    "    for j in range(len(img_DCT[0])):\n",
    "        img_DCT[i][j] = np.int16(img_DCT[i][j] / q_table[i][j])\n",
    "\n",
    "img_DCT = np.array(img_DCT, dtype=np.int16)\n",
    "print(img_DCT)"
   ]
  },
  {
   "cell_type": "markdown",
   "metadata": {},
   "source": [
    "Odwrócenie kwantyzacji"
   ]
  },
  {
   "cell_type": "code",
   "execution_count": 372,
   "metadata": {},
   "outputs": [
    {
     "name": "stdout",
     "output_type": "stream",
     "text": [
      "[[1729    0  104    0    0    0    0    0]\n",
      " [ 200    0  -55    0    0    0    0    0]\n",
      " [ -55    0   13    0    0    0    0    0]\n",
      " [  44    0  -18    0    0    0    0    0]\n",
      " [   0    0    0    0    0    0    0    0]\n",
      " [   0    0    0    0    0    0    0    0]\n",
      " [   0    0    0    0    0    0    0    0]\n",
      " [   0    0    0    0    0    0    0    0]]\n"
     ]
    }
   ],
   "source": [
    "for i in range(len(img_DCT)):\n",
    "    for j in range(len(img_DCT[0])):\n",
    "        img_DCT[i][j] = img_DCT[i][j] * q_table[i][j]\n",
    "\n",
    "print(img_DCT)"
   ]
  },
  {
   "cell_type": "code",
   "execution_count": 373,
   "metadata": {},
   "outputs": [
    {
     "data": {
      "text/plain": [
       "<matplotlib.image.AxesImage at 0x161ae67a3b0>"
      ]
     },
     "execution_count": 373,
     "metadata": {},
     "output_type": "execute_result"
    },
    {
     "data": {
      "image/png": "[encoded data removed]",
      "text/plain": [
       "<Figure size 432x288 with 1 Axes>"
      ]
     },
     "metadata": {
      "needs_background": "light"
     },
     "output_type": "display_data"
    },
    {
     "data": {
      "image/png": "[encoded data removed]",
      "text/plain": [
       "<Figure size 432x288 with 1 Axes>"
      ]
     },
     "metadata": {
      "needs_background": "light"
     },
     "output_type": "display_data"
    }
   ],
   "source": [
    "img_IDCT = fftpack.idctn(img_DCT, norm='ortho')\n",
    "img_IDCT = np.array(img_IDCT, dtype=np.uint8)\n",
    "\n",
    "figure(2)\n",
    "imshow(img, cmap='gray', vmin='0', vmax='255')\n",
    "figure(3)\n",
    "imshow(img_IDCT, cmap='gray', vmin='0', vmax='255')\n"
   ]
  }
 ],
 "metadata": {
  "interpreter": {
   "hash": "32b6365f16a9560d1f64eaf7f0cd3e0262cb733df60217a199a198ac26346325"
  },
  "kernelspec": {
   "display_name": "Python 3.10.0 64-bit",
   "language": "python",
   "name": "python3"
  },
  "language_info": {
   "codemirror_mode": {
    "name": "ipython",
    "version": 3
   },
   "file_extension": ".py",
   "mimetype": "text/x-python",
   "name": "python",
   "nbconvert_exporter": "python",
   "pygments_lexer": "ipython3",
   "version": "3.10.0"
  },
  "orig_nbformat": 4
 },
 "nbformat": 4,
 "nbformat_minor": 2
}
