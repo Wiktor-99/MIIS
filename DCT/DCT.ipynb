{
 "cells": [
  {
   "cell_type": "markdown",
   "metadata": {},
   "source": [
    "Importowanie bibliotek"
   ]
  },
  {
   "cell_type": "code",
   "execution_count": 157,
   "metadata": {},
   "outputs": [],
   "source": [
    "import numpy as np\n",
    "from scipy import fftpack\n",
    "from pylab import *"
   ]
  },
  {
   "cell_type": "markdown",
   "metadata": {},
   "source": [
    "Wczytanie i wyświetlenie pliku"
   ]
  },
  {
   "cell_type": "code",
   "execution_count": 158,
   "metadata": {},
   "outputs": [
    {
     "data": {
      "text/plain": [
       "<matplotlib.image.AxesImage at 0x24cdac4bc40>"
      ]
     },
     "execution_count": 158,
     "metadata": {},
     "output_type": "execute_result"
    },
    {
     "data": {
      "image/png": "[encoded data removed]",
      "text/plain": [
       "<Figure size 432x288 with 1 Axes>"
      ]
     },
     "metadata": {
      "needs_background": "light"
     },
     "output_type": "display_data"
    }
   ],
   "source": [
    "def read_file(name):\n",
    "    file = open(name, 'r')\n",
    "    size = file.readline().split(' ')\n",
    "    size_x = np.uint8(size[0])\n",
    "    size_y = np.uint8(size[1])\n",
    "\n",
    "    img = np.zeros((size_x, size_y))\n",
    "    for x in range(size_x):\n",
    "        line = file.readline().split(' ')\n",
    "        for y in range(size_y):\n",
    "            img[x][y] = int(line[y])\n",
    "\n",
    "    file.close()\n",
    "    return img\n",
    "\n",
    "# print(img)\n",
    "img = read_file(\"input_img_1.txt\")\n",
    "figure(1)\n",
    "img = np.array(img, dtype=np.uint8)\n",
    "imshow(img, cmap='gray', vmin='0', vmax='255')"
   ]
  },
  {
   "cell_type": "markdown",
   "metadata": {},
   "source": [
    "Wczytanie tabeli kwantyzacji"
   ]
  },
  {
   "cell_type": "code",
   "execution_count": 159,
   "metadata": {},
   "outputs": [
    {
     "name": "stdout",
     "output_type": "stream",
     "text": [
      "[[ 16  11  10  16  24  40  51  61]\n",
      " [ 12  12  14  19  26  58  60  55]\n",
      " [ 14  13  16  24  40  57  69  56]\n",
      " [ 14  17  22  29  51  87  80  62]\n",
      " [ 18  22  37  56  68 109 103  77]\n",
      " [ 24  35  55  64  81 104 113  92]\n",
      " [ 49  64  78  87 103 121 120 101]\n",
      " [ 72  92  95  98 112 100 103  99]]\n"
     ]
    }
   ],
   "source": [
    "file = open(\"quantization_table_N.txt\", 'r')\n",
    "q_table_N = zeros((8, 8))\n",
    "for i in range(8):\n",
    "    line = file.readline().split(' ')\n",
    "    for j in range(8):\n",
    "        q_table_N[i][j] = int(line[j])\n",
    "    \n",
    "file.close()\n",
    "q_table_N = np.array(q_table_N, dtype=np.uint8)\n",
    "print(q_table_N)"
   ]
  },
  {
   "cell_type": "markdown",
   "metadata": {},
   "source": [
    "Wprowadzenie czynnika jakości"
   ]
  },
  {
   "cell_type": "code",
   "execution_count": 160,
   "metadata": {},
   "outputs": [
    {
     "name": "stdout",
     "output_type": "stream",
     "text": [
      "[[ 40.  28.  25.  40.  60. 100. 128. 153.]\n",
      " [ 30.  30.  35.  48.  65. 145. 150. 138.]\n",
      " [ 35.  33.  40.  60. 100. 143. 173. 140.]\n",
      " [ 35.  43.  55.  73. 128. 218. 200. 155.]\n",
      " [ 45.  55.  93. 140. 170. 273. 258. 193.]\n",
      " [ 60.  88. 138. 160. 203. 260. 283. 230.]\n",
      " [123. 160. 195. 218. 258. 303. 300. 253.]\n",
      " [180. 230. 238. 245. 280. 250. 258. 248.]]\n"
     ]
    }
   ],
   "source": [
    "q_factor = 20\n",
    "if q_factor < 50:\n",
    "    S = np.floor(5000 / q_factor)\n",
    "else:\n",
    "    S = np.floor(200 - 2 * q_factor)\n",
    "\n",
    "q_table = zeros((8, 8))\n",
    "\n",
    "for i in range(8):\n",
    "    for j in range(8):\n",
    "        q_table[i][j] = np.floor((S * q_table_N[i][j] + 50) / 100)\n",
    "\n",
    "print(q_table)"
   ]
  },
  {
   "cell_type": "markdown",
   "metadata": {},
   "source": [
    "Wykonanie transformacji cosinusowej"
   ]
  },
  {
   "cell_type": "code",
   "execution_count": 161,
   "metadata": {},
   "outputs": [
    {
     "name": "stdout",
     "output_type": "stream",
     "text": [
      "[[ 1.7320e+03 -1.7334e+00  1.0594e+02 -1.4697e+00 -5.0000e+00 -9.8193e-01\n",
      "   7.5312e+00 -3.4497e-01]\n",
      " [ 2.0275e+02 -4.7827e-01 -5.8125e+01 -4.0552e-01  1.7141e+01 -2.7100e-01\n",
      "  -1.4852e+01 -9.5154e-02]\n",
      " [-5.5188e+01  2.2656e+00  2.4656e+01  1.9209e+00 -1.5773e+01  1.2832e+00\n",
      "   6.2500e+00  4.5068e-01]\n",
      " [ 4.6812e+01  1.3623e+00 -2.2875e+01  1.1553e+00 -1.1835e-01  7.7148e-01\n",
      "   4.8047e+00  2.7100e-01]\n",
      " [-1.2500e+01 -1.7334e+00  2.8711e+00 -1.4697e+00  5.0000e+00 -9.8193e-01\n",
      "   6.9297e+00 -3.4497e-01]\n",
      " [-4.0664e+00 -2.0391e+00  1.2016e+01 -1.7285e+00 -5.9473e-01 -1.1553e+00\n",
      "   1.6650e+00 -4.0552e-01]\n",
      " [ 3.9238e+00  9.3848e-01 -6.2500e+00  7.9541e-01  1.1211e+00  5.3174e-01\n",
      "  -7.1602e+00  1.8665e-01]\n",
      " [-1.1266e+01  2.4043e+00  1.8250e+01  2.0391e+00 -1.1445e+01  1.3623e+00\n",
      "  -7.0234e+00  4.7827e-01]]\n"
     ]
    }
   ],
   "source": [
    "img_DCT = fftpack.dctn(img, norm='ortho')\n",
    "img_DCT = np.array(img_DCT, dtype=np.float16)\n",
    "print(img_DCT)"
   ]
  },
  {
   "cell_type": "markdown",
   "metadata": {},
   "source": [
    "Kwantyzacja"
   ]
  },
  {
   "cell_type": "code",
   "execution_count": 162,
   "metadata": {},
   "outputs": [
    {
     "name": "stdout",
     "output_type": "stream",
     "text": [
      "[[43  0  4  0  0  0  0  0]\n",
      " [ 6  0 -1  0  0  0  0  0]\n",
      " [-1  0  0  0  0  0  0  0]\n",
      " [ 1  0  0  0  0  0  0  0]\n",
      " [ 0  0  0  0  0  0  0  0]\n",
      " [ 0  0  0  0  0  0  0  0]\n",
      " [ 0  0  0  0  0  0  0  0]\n",
      " [ 0  0  0  0  0  0  0  0]]\n"
     ]
    }
   ],
   "source": [
    "for i in range(len(img_DCT)):\n",
    "    for j in range(len(img_DCT[0])):\n",
    "        img_DCT[i][j] = np.int16(img_DCT[i][j] / q_table[i][j])\n",
    "\n",
    "img_DCT = np.array(img_DCT, dtype=np.int16)\n",
    "print(img_DCT)"
   ]
  },
  {
   "cell_type": "markdown",
   "metadata": {},
   "source": [
    "Odwrócenie kwantyzacji"
   ]
  },
  {
   "cell_type": "code",
   "execution_count": 163,
   "metadata": {},
   "outputs": [
    {
     "name": "stdout",
     "output_type": "stream",
     "text": [
      "[[1720    0  100    0    0    0    0    0]\n",
      " [ 180    0  -35    0    0    0    0    0]\n",
      " [ -35    0    0    0    0    0    0    0]\n",
      " [  35    0    0    0    0    0    0    0]\n",
      " [   0    0    0    0    0    0    0    0]\n",
      " [   0    0    0    0    0    0    0    0]\n",
      " [   0    0    0    0    0    0    0    0]\n",
      " [   0    0    0    0    0    0    0    0]]\n"
     ]
    }
   ],
   "source": [
    "for i in range(len(img_DCT)):\n",
    "    for j in range(len(img_DCT[0])):\n",
    "        img_DCT[i][j] = img_DCT[i][j] * q_table[i][j]\n",
    "\n",
    "print(img_DCT)"
   ]
  },
  {
   "cell_type": "code",
   "execution_count": 164,
   "metadata": {},
   "outputs": [
    {
     "data": {
      "text/plain": [
       "<matplotlib.image.AxesImage at 0x24cdadc8df0>"
      ]
     },
     "execution_count": 164,
     "metadata": {},
     "output_type": "execute_result"
    },
    {
     "data": {
      "image/png": "[encoded data removed]",
      "text/plain": [
       "<Figure size 432x288 with 1 Axes>"
      ]
     },
     "metadata": {
      "needs_background": "light"
     },
     "output_type": "display_data"
    },
    {
     "data": {
      "image/png": "[encoded data removed]",
      "text/plain": [
       "<Figure size 432x288 with 1 Axes>"
      ]
     },
     "metadata": {
      "needs_background": "light"
     },
     "output_type": "display_data"
    },
    {
     "data": {
      "image/png": "[encoded data removed]",
      "text/plain": [
       "<Figure size 432x288 with 1 Axes>"
      ]
     },
     "metadata": {
      "needs_background": "light"
     },
     "output_type": "display_data"
    },
    {
     "data": {
      "image/png": "[encoded data removed]",
      "text/plain": [
       "<Figure size 432x288 with 1 Axes>"
      ]
     },
     "metadata": {
      "needs_background": "light"
     },
     "output_type": "display_data"
    },
    {
     "data": {
      "image/png": "[encoded data removed]",
      "text/plain": [
       "<Figure size 432x288 with 1 Axes>"
      ]
     },
     "metadata": {
      "needs_background": "light"
     },
     "output_type": "display_data"
    }
   ],
   "source": [
    "img_IDCT = fftpack.idctn(img_DCT, norm='ortho')\n",
    "img_IDCT = np.array(img_IDCT, dtype=np.uint8)\n",
    "\n",
    "figure(2)\n",
    "imshow(img, cmap='gray', vmin='0', vmax='255')\n",
    "img = read_file(\"output_img_20.txt\")\n",
    "figure(3)\n",
    "imshow(img, cmap='gray', vmin='0', vmax='255')\n",
    "img = read_file(\"output_img_40.txt\")\n",
    "figure(4)\n",
    "imshow(img, cmap='gray', vmin='0', vmax='255')\n",
    "img = read_file(\"output_img_60.txt\")\n",
    "figure(5)\n",
    "imshow(img, cmap='gray', vmin='0', vmax='255')\n",
    "img = read_file(\"output_img_80.txt\")\n",
    "figure(6)\n",
    "imshow(img, cmap='gray', vmin='0', vmax='255')\n"
   ]
  },
  {
   "cell_type": "code",
   "execution_count": 165,
   "metadata": {},
   "outputs": [],
   "source": [
    "# file = open(\"output_img_20.txt\", 'w')\n",
    "# file.write(\"8 8\\n\")\n",
    "# for i in range(len(img_IDCT)):\n",
    "#     for j in range(len(img_IDCT[0])):\n",
    "#         file.write(str(img_IDCT[i][j]) + ' ')\n",
    "#     file.write('\\n')\n",
    "# file.close()"
   ]
  }
 ],
 "metadata": {
  "interpreter": {
   "hash": "32b6365f16a9560d1f64eaf7f0cd3e0262cb733df60217a199a198ac26346325"
  },
  "kernelspec": {
   "display_name": "Python 3.10.0 64-bit",
   "language": "python",
   "name": "python3"
  },
  "language_info": {
   "codemirror_mode": {
    "name": "ipython",
    "version": 3
   },
   "file_extension": ".py",
   "mimetype": "text/x-python",
   "name": "python",
   "nbconvert_exporter": "python",
   "pygments_lexer": "ipython3",
   "version": "3.10.0"
  },
  "orig_nbformat": 4
 },
 "nbformat": 4,
 "nbformat_minor": 2
}
